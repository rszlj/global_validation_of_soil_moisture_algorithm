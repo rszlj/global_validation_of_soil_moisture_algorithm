{
 "cells": [
  {
   "cell_type": "markdown",
   "id": "828818a4",
   "metadata": {},
   "source": [
    "# Preprocess the soil moisutre from the international soil moisture network "
   ]
  },
  {
   "cell_type": "markdown",
   "id": "c997901e",
   "metadata": {},
   "source": [
    "## Soil moisture from ISMN"
   ]
  },
  {
   "cell_type": "code",
   "execution_count": 1,
   "id": "74c3b9f9",
   "metadata": {},
   "outputs": [],
   "source": [
    "import os\n",
    "import re\n",
    "import pandas as pd\n",
    "import numpy as np\n",
    "import utils\n",
    "import glob\n",
    "\n",
    "HOME_DIR = r\"E:\\Zoho WorkDrive (YICODE)\\My Folders\\TimeSeriesRetrieval\\Extension\"\n",
    "# path to the the raw data downloaded from the ISMN\n",
    "network_dir=os.path.join(HOME_DIR,'ISMN_raw')\n",
    "# path to the site specific daily averaged soil moisutre (<= 5cm )\n",
    "out_dir=os.path.join(HOME_DIR,'daily_ave')\n",
    "# path to a table with the details of sites\n",
    "site_info_file=os.path.join(HOME_DIR,'site_info.csv')\n",
    "s_time=\"2016-01-01\" # start and end date\n",
    "e_time=\"2019-12-31\""
   ]
  },
  {
   "cell_type": "markdown",
   "id": "bf4a74a1",
   "metadata": {},
   "source": [
    "Get all the raw soil moisture files for the layer of <= 5 cm "
   ]
  },
  {
   "cell_type": "code",
   "execution_count": 2,
   "id": "91cae6be",
   "metadata": {},
   "outputs": [
    {
     "name": "stdout",
     "output_type": "stream",
     "text": [
      "ISMN_raw files: 1615\n"
     ]
    }
   ],
   "source": [
    "if not os.path.exists(out_dir):\n",
    "    os.mkdir(out_dir)\n",
    "sm_file_list=utils.listdir_sm(network_dir)\n",
    "print(network_dir.split('\\\\')[-1]+' files: '+str(len(sm_file_list)))"
   ]
  },
  {
   "cell_type": "markdown",
   "id": "dd8bf929",
   "metadata": {},
   "source": [
    "Calculate daily average soil moisture for each site and save the multiple measurements of the same site to one file"
   ]
  },
  {
   "cell_type": "code",
   "execution_count": 5,
   "id": "0f38506a",
   "metadata": {},
   "outputs": [],
   "source": [
    "for file_sm in sm_file_list:\n",
    "    #file_sm=sm_file_list[0]\n",
    "    file_ts=file_sm.replace('sm','ts') \n",
    "    h,sm=utils.readstm_all(file_sm,'sm',s_time,e_time)# read sm\n",
    "    #sm=sm.groupby(level=0).mean()\n",
    "    if type(sm)!=pd.DataFrame:\n",
    "        continue\n",
    "    \n",
    "    if os.path.exists(file_ts):\n",
    "        _,ts=utils.readstm_all(file_ts,'ts',s_time,e_time)# read surface temperature\n",
    "        #ts=ts.groupby(level=0).mean()\n",
    "    else:\n",
    "        ts = pd.DataFrame(np.nan, index=sm.index, columns=['ts']) # for sites without ts measurements, nan was used\n",
    "    site_out = pd.concat([sm,ts['ts']],axis=1)\n",
    "    #site_out = site_out.loc[:,~site_out.columns.duplicated()]# drop duplicated columns\n",
    "    #site_file=os.path.join(out_dir,h.loc[0][0]+'_'+h.loc[0][1]+'_'+str(h.loc[0][4])+'_'+str(h.loc[0][5])+'.csv')\n",
    "    site_file=os.path.join(out_dir,h.loc[0][0]+'_'+h.loc[0][1]+'.csv') # All the observations < 5 cm was averaged\n",
    "    if os.path.exists(site_file):\n",
    "        # average the values observated at the same depth or the target layer\n",
    "        site_pre=pd.read_csv(site_file,index_col=\"time\", parse_dates=True)\n",
    "        #site_out['sample_num']=site_pre['sample_num']+1\n",
    "        #print(h.loc[0][0]+'_'+h.loc[0][1]+':'+str(site_out['sample_num'][0]))\n",
    "        #site_out['sm']=(site_pre['sm']*site_pre['sample_num']+site_out['sm'])/(site_out['sample_num'])\n",
    "        #site_out['ts']=(site_pre['ts']*site_pre['sample_num']+site_out['ts'])/(site_out['sample_num'])\n",
    "        site_out=site_pre.append(site_out)\n",
    "        #site_out=site_out.groupby(level=0).mean()\n",
    "        site_out.to_csv(site_file)\n",
    "    else:\n",
    "        #site_out['sample_num']=1\n",
    "        site_out.to_csv(site_file)\n",
    "        sm_file_dir,_=os.path.split(file_sm)# extract soil texture\n",
    "        site_static_file=glob.glob(os.path.join(sm_file_dir,'*.csv'))[0]\n",
    "        clay, sand = utils.parse_site_soil_texture(site_static_file)\n",
    "        h['clay']=clay\n",
    "        h['sand']=sand\n",
    "        h['slit']=1-clay-sand\n",
    "        if os.path.exists(site_info_file):\n",
    "            site_info_pre=pd.read_csv(site_info_file)\n",
    "            site_info_out=site_info_pre.append(h)\n",
    "            site_info_out=site_info_out.drop_duplicates()\n",
    "            site_info_out.to_csv(site_info_file,index=False)\n",
    "        else:\n",
    "            h.to_csv(site_info_file,index=False)"
   ]
  },
  {
   "cell_type": "markdown",
   "id": "c46d9dc3",
   "metadata": {},
   "source": [
    "Average multiple measurements collected from the same layer or depth"
   ]
  },
  {
   "cell_type": "code",
   "execution_count": 6,
   "id": "cc29e828",
   "metadata": {},
   "outputs": [
    {
     "name": "stdout",
     "output_type": "stream",
     "text": [
      "Number of sites including a few Yanco sites : 1323\n"
     ]
    }
   ],
   "source": [
    "site_files = os.listdir(out_dir)\n",
    "print('Number of sites including a few Yanco sites : %s'%len(site_files))\n",
    "for site_file in site_files: # calculate the mean of multiple measurements within the same layer or depth \n",
    "    site_out=pd.read_csv(os.path.join(out_dir,site_file),index_col=\"time\", parse_dates=True)\n",
    "    sm_count=site_out['sm'].groupby(level=0).count().rename('sm_count')\n",
    "    site_out=site_out.groupby(level=0).mean()\n",
    "    site_out = pd.concat([site_out,sm_count],axis=1) # each row includes the dateframe, sm, ts and number of sm measurements \n",
    "    site_out.to_csv(os.path.join(out_dir,site_file))"
   ]
  },
  {
   "cell_type": "code",
   "execution_count": null,
   "id": "59946bd7",
   "metadata": {},
   "outputs": [],
   "source": []
  }
 ],
 "metadata": {
  "kernelspec": {
   "display_name": "Python 3 (ipykernel)",
   "language": "python",
   "name": "python3"
  },
  "language_info": {
   "codemirror_mode": {
    "name": "ipython",
    "version": 3
   },
   "file_extension": ".py",
   "mimetype": "text/x-python",
   "name": "python",
   "nbconvert_exporter": "python",
   "pygments_lexer": "ipython3",
   "version": "3.8.12"
  }
 },
 "nbformat": 4,
 "nbformat_minor": 5
}
